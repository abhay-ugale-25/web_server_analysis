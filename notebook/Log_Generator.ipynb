{
  "nbformat": 4,
  "nbformat_minor": 0,
  "metadata": {
    "colab": {
      "provenance": [],
      "authorship_tag": "ABX9TyMhIv3zUxYo+Q1WxhAyMqbc",
      "include_colab_link": true
    },
    "kernelspec": {
      "name": "python3",
      "display_name": "Python 3"
    },
    "language_info": {
      "name": "python"
    }
  },
  "cells": [
    {
      "cell_type": "markdown",
      "metadata": {
        "id": "view-in-github",
        "colab_type": "text"
      },
      "source": [
        "<a href=\"https://colab.research.google.com/github/abhay-ugale-25/web_server_analysis/blob/main/Log_Generator.ipynb\" target=\"_parent\"><img src=\"https://colab.research.google.com/assets/colab-badge.svg\" alt=\"Open In Colab\"/></a>"
      ]
    },
    {
      "cell_type": "markdown",
      "source": [
        "Log Generator Script\n",
        "--------------------\n",
        "Generates synthetic web server logs and saves them to CSV.\n",
        "\n",
        "Fields:\n",
        "- timestamp\n",
        "- ip_address\n",
        "- method\n",
        "- endpoint\n",
        "- status_code\n",
        "- response_time_ms\n"
      ],
      "metadata": {
        "id": "G0-Wnh5nGybw"
      }
    },
    {
      "cell_type": "code",
      "execution_count": 4,
      "metadata": {
        "colab": {
          "base_uri": "https://localhost:8080/"
        },
        "id": "yc1DMlihwi0Q",
        "outputId": "39d72ef0-44b4-46e5-9e98-9d5216f674df"
      },
      "outputs": [
        {
          "output_type": "stream",
          "name": "stdout",
          "text": [
            "Generated 10000 rows in web_server_logs.csv\n"
          ]
        }
      ],
      "source": [
        "import csv\n",
        "import random\n",
        "import datetime\n",
        "\n",
        "# Configuration\n",
        "num_rows = 10000\n",
        "output_file = 'web_server_logs.csv'\n",
        "random.seed(42)\n",
        "\n",
        "methods = [\"GET\", \"POST\", \"PUT\", \"DELETE\"]\n",
        "method_weights = [0.7, 0.2, 0.05, 0.05]\n",
        "\n",
        "endpoints = [\"/\", \"/login\", \"/products\", \"/checkout\", \"/cart\", \"/profile\"]\n",
        "endpoint_weights = [0.3, 0.15, 0.25, 0.1, 0.1, 0.1]\n",
        "\n",
        "status_codes = [200, 201, 400, 401, 403, 404, 500]\n",
        "status_weights = [0.7, 0.1, 0.05, 0.05, 0.03, 0.05, 0.02]\n",
        "\n",
        "ips = [f\"192.168.1.{i}\" for i in range(1,51)]\n",
        "ip_weights = [0.05 if i < 5 else 0.95/45 for i in range(50)]\n",
        "\n",
        "\n",
        "# Generation\n",
        "with open(output_file, mode='w', newline='') as file:\n",
        "  writer = csv.writer(file)\n",
        "\n",
        "  writer.writerow([\"timestamp\", \"ip_address\", \"method\", \"endpoint\", \"status_code\", \"response_time_ms\"])\n",
        "\n",
        "  for _ in range(num_rows):\n",
        "\n",
        "    hour = random.choices(range(24), weights=[1 if h < 6 else 5 for h in range(24)])[0]\n",
        "    minute = random.randint(0, 59)\n",
        "    second = random.randint(0, 59)\n",
        "    today = datetime.date.today()\n",
        "\n",
        "    timestamp = datetime.datetime(today.year, today.month, today.day, hour, minute, second)\n",
        "\n",
        "    ip = random.choices(ips, weights = ip_weights, k=1)[0]\n",
        "    method = random.choices(methods, weights=method_weights, k=1)[0]\n",
        "    endpoint = random.choices(endpoints, weights=endpoint_weights, k=1)[0]\n",
        "    status = random.choices(status_codes, weights=status_weights)[0]\n",
        "    response_time = random.randint(20, 2000)\n",
        "\n",
        "    writer.writerow([timestamp, ip, method, endpoint, status, response_time])\n",
        "\n",
        "print(f\"Generated {num_rows} rows in {output_file}\")"
      ]
    },
    {
      "cell_type": "code",
      "source": [
        "from google.colab import files\n",
        "files.download('web_server_logs.csv')"
      ],
      "metadata": {
        "colab": {
          "base_uri": "https://localhost:8080/",
          "height": 17
        },
        "id": "m-X_uUv-1amb",
        "outputId": "585beb01-39a8-4099-d889-e309361e49fb"
      },
      "execution_count": 5,
      "outputs": [
        {
          "output_type": "display_data",
          "data": {
            "text/plain": [
              "<IPython.core.display.Javascript object>"
            ],
            "application/javascript": [
              "\n",
              "    async function download(id, filename, size) {\n",
              "      if (!google.colab.kernel.accessAllowed) {\n",
              "        return;\n",
              "      }\n",
              "      const div = document.createElement('div');\n",
              "      const label = document.createElement('label');\n",
              "      label.textContent = `Downloading \"${filename}\": `;\n",
              "      div.appendChild(label);\n",
              "      const progress = document.createElement('progress');\n",
              "      progress.max = size;\n",
              "      div.appendChild(progress);\n",
              "      document.body.appendChild(div);\n",
              "\n",
              "      const buffers = [];\n",
              "      let downloaded = 0;\n",
              "\n",
              "      const channel = await google.colab.kernel.comms.open(id);\n",
              "      // Send a message to notify the kernel that we're ready.\n",
              "      channel.send({})\n",
              "\n",
              "      for await (const message of channel.messages) {\n",
              "        // Send a message to notify the kernel that we're ready.\n",
              "        channel.send({})\n",
              "        if (message.buffers) {\n",
              "          for (const buffer of message.buffers) {\n",
              "            buffers.push(buffer);\n",
              "            downloaded += buffer.byteLength;\n",
              "            progress.value = downloaded;\n",
              "          }\n",
              "        }\n",
              "      }\n",
              "      const blob = new Blob(buffers, {type: 'application/binary'});\n",
              "      const a = document.createElement('a');\n",
              "      a.href = window.URL.createObjectURL(blob);\n",
              "      a.download = filename;\n",
              "      div.appendChild(a);\n",
              "      a.click();\n",
              "      div.remove();\n",
              "    }\n",
              "  "
            ]
          },
          "metadata": {}
        },
        {
          "output_type": "display_data",
          "data": {
            "text/plain": [
              "<IPython.core.display.Javascript object>"
            ],
            "application/javascript": [
              "download(\"download_f262fdc8-f912-4792-83ae-d82a81d6669d\", \"web_server_logs.csv\", 531870)"
            ]
          },
          "metadata": {}
        }
      ]
    }
  ]
}
